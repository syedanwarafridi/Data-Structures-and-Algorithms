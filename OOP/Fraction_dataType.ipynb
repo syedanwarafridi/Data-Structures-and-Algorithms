{
 "cells": [
  {
   "cell_type": "markdown",
   "metadata": {},
   "source": [
    "# Fraction Data Type\n",
    "\n",
    "A fraction represents a part of the whole or group of objects.In a fraction, numerator (top number) and denominator (bottom number) are separated by a horizontal bar known as the fractional bar. The denominator represents the number of equal parts the whole is divided into or total number of objects in a group. The numerator represents the number of parts of the whole or the number of objects from the group is taken. eg.. 4/5, 4/6"
   ]
  },
  {
   "cell_type": "markdown",
   "metadata": {},
   "source": [
    "### __ str __() Magic Method\n",
    "\n",
    "- this method magic will be automatically triggered when the object of the class will be printed."
   ]
  },
  {
   "cell_type": "markdown",
   "metadata": {},
   "source": [
    "### __ add __() Magic Method\n",
    "\n",
    "- This magic methid will be autimatically triggered when the two objects are trying to add wit + sign."
   ]
  },
  {
   "cell_type": "code",
   "execution_count": 14,
   "metadata": {},
   "outputs": [],
   "source": [
    "class Fraction:\n",
    "    def __init__(self, numerator, denumerator):\n",
    "        self.num = numerator\n",
    "        self.denum = denumerator\n",
    "        \n",
    "    def __str__(self):\n",
    "        return \"{}/{}\".format(self.num, self.denum)\n",
    "    \n",
    "    def __add__(self, other):\n",
    "        temp_num = self.num * other.denum + self.denum * other.num\n",
    "        temp_denum = self.denum * other.denum\n",
    "        \n",
    "        return \"{}/{}\".format(temp_num, temp_denum)\n",
    "    \n",
    "    def __sub__(self, other):\n",
    "        temp_num = self.num * other.denum - self.denum * other.num\n",
    "        temp_denum = self.denum * other.denum\n",
    "        \n",
    "        return \"{}/{}\".format(temp_num, temp_denum)\n",
    "    \n",
    "    def __mul__(self, other):\n",
    "        temp_num = self.num * other.num\n",
    "        temp_denum = self.denum * other.denum\n",
    "        \n",
    "        return \"{}/{}\".format(temp_num, temp_denum)\n",
    "    \n",
    "    def __truediv__(self, other):\n",
    "        temp_num = self.num * other.denum\n",
    "        temp_denum = self.denum * other.num\n",
    "        \n",
    "        return \"{}/{}\".format(temp_num, temp_denum)"
   ]
  },
  {
   "cell_type": "code",
   "execution_count": 11,
   "metadata": {},
   "outputs": [],
   "source": [
    "frac = Fraction(2,4)"
   ]
  },
  {
   "cell_type": "code",
   "execution_count": 12,
   "metadata": {},
   "outputs": [],
   "source": [
    "frac1 = Fraction(2,4)"
   ]
  },
  {
   "cell_type": "code",
   "execution_count": 13,
   "metadata": {},
   "outputs": [
    {
     "data": {
      "text/plain": [
       "'16/16'"
      ]
     },
     "execution_count": 13,
     "metadata": {},
     "output_type": "execute_result"
    }
   ],
   "source": [
    "frac + frac1"
   ]
  },
  {
   "cell_type": "code",
   "execution_count": null,
   "metadata": {},
   "outputs": [],
   "source": []
  }
 ],
 "metadata": {
  "kernelspec": {
   "display_name": "AI",
   "language": "python",
   "name": "python3"
  },
  "language_info": {
   "codemirror_mode": {
    "name": "ipython",
    "version": 3
   },
   "file_extension": ".py",
   "mimetype": "text/x-python",
   "name": "python",
   "nbconvert_exporter": "python",
   "pygments_lexer": "ipython3",
   "version": "3.10.11"
  }
 },
 "nbformat": 4,
 "nbformat_minor": 2
}
