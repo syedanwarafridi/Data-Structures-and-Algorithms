{
 "cells": [
  {
   "cell_type": "markdown",
   "metadata": {},
   "source": [
    "# Inheritance\n",
    "\n",
    "- Inheritance can be done by child class\n",
    "- Reverse inhiritance is not possible\n",
    "- child class can access each attribute of the parent class\n",
    "- Child class object cannot access the parent class hidden/private attributes or methods"
   ]
  },
  {
   "cell_type": "code",
   "execution_count": null,
   "metadata": {},
   "outputs": [],
   "source": [
    "class User:\n",
    "    \n",
    "    def login():\n",
    "        print(\"Login\")\n",
    "    def register():\n",
    "        print(\"Register\")\n",
    "        \n",
    "class Student(User):\n",
    "    \n",
    "    def enroll():\n",
    "        print(\"Enroll\")\n",
    "    def review():\n",
    "        print(\"Review\")"
   ]
  },
  {
   "cell_type": "markdown",
   "metadata": {},
   "source": [
    "# Constructor Inheritence"
   ]
  },
  {
   "cell_type": "code",
   "execution_count": 5,
   "metadata": {},
   "outputs": [],
   "source": [
    "class Phone:\n",
    "    def __init__(self, price, brand, camera):\n",
    "        print(\"Inside Phone Contructor\")\n",
    "        self.price = price\n",
    "        self.__brand = brand\n",
    "        self.camera = camera\n",
    "        \n",
    "    def buy(self):\n",
    "        print(\"Buying a phone\")\n",
    "    \n",
    "    def return_phone(self):\n",
    "        print(\"Returning a phone\")\n",
    "\n",
    "class FeaturePhone(Phone):\n",
    "    pass\n",
    "\n",
    "class SmartPhone(Phone):\n",
    "    pass"
   ]
  },
  {
   "cell_type": "code",
   "execution_count": 3,
   "metadata": {},
   "outputs": [
    {
     "name": "stdout",
     "output_type": "stream",
     "text": [
      "Inside Phone Contructor\n"
     ]
    }
   ],
   "source": [
    "s = SmartPhone(20000, \"samsung\", 12)"
   ]
  },
  {
   "cell_type": "markdown",
   "metadata": {},
   "source": [
    "# Polymorphism\n",
    "\n",
    "There are three things in polymorphism\n",
    "- Method Overriding - If there are 2 same methods in Parents and child class child class object will execute its own method\n",
    "- Method Overloading - \n",
    "- Operator Overloading\n",
    "- super() -  Calling Parent constructor and Methods"
   ]
  },
  {
   "cell_type": "code",
   "execution_count": 10,
   "metadata": {},
   "outputs": [],
   "source": [
    "class Phone:\n",
    "    def __init__(self, price, brand, camera):\n",
    "        print(\"Inside Phone Contructor\")\n",
    "        self.price = price\n",
    "        self.__brand = brand\n",
    "        self.camera = camera\n",
    "        \n",
    "    def buy(self):\n",
    "        print(\"Buying a phone\")\n",
    "    \n",
    "    def return_phone(self):\n",
    "        print(\"Returning a phone\")\n",
    "\n",
    "class SmartPhone(Phone):\n",
    "    def __init__(self, price, brand, camera, ram):\n",
    "        super().__init__(price, brand, camera)\n",
    "        self.ram = ram\n",
    "        print(\"Inside SmartPhone constructor\")\n",
    "    \n",
    "    def buy(self):\n",
    "        print(\"Buying Smart Phone\")\n",
    "        super().buy()\n",
    "        "
   ]
  },
  {
   "cell_type": "code",
   "execution_count": 11,
   "metadata": {},
   "outputs": [
    {
     "name": "stdout",
     "output_type": "stream",
     "text": [
      "Inside Phone Contructor\n",
      "Inside SmartPhone constructor\n"
     ]
    }
   ],
   "source": [
    "s = SmartPhone(10, \"samsung\", 111, 12)"
   ]
  },
  {
   "cell_type": "code",
   "execution_count": 9,
   "metadata": {},
   "outputs": [
    {
     "name": "stdout",
     "output_type": "stream",
     "text": [
      "Buying Smart Phone\n",
      "Buying a phone\n"
     ]
    }
   ],
   "source": [
    "s.buy()"
   ]
  },
  {
   "cell_type": "markdown",
   "metadata": {},
   "source": [
    "### There are 4 types of Inheritance in Python\n",
    "- Single Level Inheritence -  Example There will be only 2 classes Parent and Child. Child class will be inherited by Parent Class\n",
    "- Multi-Level Inheritence - \n",
    "- Hierarichal Inheritance\n",
    "- Multiple Inheritence -  Method Resolution Order"
   ]
  },
  {
   "cell_type": "code",
   "execution_count": null,
   "metadata": {},
   "outputs": [],
   "source": []
  }
 ],
 "metadata": {
  "kernelspec": {
   "display_name": "AI",
   "language": "python",
   "name": "python3"
  },
  "language_info": {
   "codemirror_mode": {
    "name": "ipython",
    "version": 3
   },
   "file_extension": ".py",
   "mimetype": "text/x-python",
   "name": "python",
   "nbconvert_exporter": "python",
   "pygments_lexer": "ipython3",
   "version": "3.10.11"
  }
 },
 "nbformat": 4,
 "nbformat_minor": 2
}
