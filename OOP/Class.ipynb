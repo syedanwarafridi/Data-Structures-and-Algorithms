{
 "cells": [
  {
   "cell_type": "markdown",
   "metadata": {},
   "source": [
    "# Class \n",
    "- Class is a Blueprint, (Blueprint means how object will behave)\n",
    "- Class is a template definition of methods, and variables in a particular kind of object.\n",
    "- Class is a way of organizing information about a type of data so a programmer can reuse elements when making multiple instances of that data type.\n",
    "- Class describes the contents of the objects that belong to it."
   ]
  },
  {
   "cell_type": "markdown",
   "metadata": {},
   "source": [
    "There are 2 important things in \"Class\" Which are following:\n",
    "- 1: Data/Property/Attribute\n",
    "- 2: Function/Behaviore/Method\n",
    "- 3: Constructor: Is a Function which will be automatically executed when we create an object/instance of a class. Or defines how objects are created, initialized and managed.\n",
    "- 4: Self: "
   ]
  },
  {
   "cell_type": "markdown",
   "metadata": {},
   "source": [
    "### Constructor\n",
    "- Constructor is special/magic/dunder method.\n",
    "- Magic Methods cannot be call with the object.\n",
    "- They are self callable. they are called by self with some of criteria."
   ]
  },
  {
   "cell_type": "markdown",
   "metadata": {},
   "source": [
    "### Self\n",
    "- Self is object, and almost it will be stored somewhere in memory.\n",
    "- Memory location of self and class object always will be same."
   ]
  },
  {
   "cell_type": "markdown",
   "metadata": {},
   "source": [
    "# Python Syntex for Class"
   ]
  },
  {
   "cell_type": "markdown",
   "metadata": {},
   "source": [
    "### Example 1"
   ]
  },
  {
   "cell_type": "code",
   "execution_count": 9,
   "metadata": {},
   "outputs": [],
   "source": [
    "class Calculator:\n",
    "    def __init__(self):\n",
    "        self.speed = 100\n",
    "        self.time = 2\n",
    "        self.distance = 50\n",
    "        \n",
    "    def calculate_speed(self):\n",
    "        print(\"Speed = \", self.distance / self.time)\n",
    "        \n",
    "    def calculate_time(self):\n",
    "        print(\"Time = \", self.distance / self.speed)\n",
    "        \n",
    "    def calculate_distance(self):\n",
    "        print(\"Distance = \", self.speed * self.time)"
   ]
  },
  {
   "cell_type": "code",
   "execution_count": 12,
   "metadata": {},
   "outputs": [
    {
     "name": "stdout",
     "output_type": "stream",
     "text": [
      "Time =  0.5\n",
      "Speed =  25.0\n",
      "Distance =  200\n"
     ]
    }
   ],
   "source": [
    "cal = Calculator()\n",
    "\n",
    "cal.calculate_time()\n",
    "cal.calculate_speed()\n",
    "cal.calculate_distance()\n"
   ]
  },
  {
   "cell_type": "markdown",
   "metadata": {},
   "source": [
    "# Example 2"
   ]
  },
  {
   "cell_type": "code",
   "execution_count": 10,
   "metadata": {},
   "outputs": [],
   "source": [
    "class Atm:\n",
    "    def __init__(self):\n",
    "        self.pin = \"\"\n",
    "        self.balance = 0\n",
    "        self. menu()\n",
    "        \n",
    "    def menu(self):\n",
    "        user_input = input(\"\"\"\n",
    "                           Hello, How would you like to proceed?\n",
    "                           1. Enter 1 to create pin.\n",
    "                           2. Enter 2 to Deposite.\n",
    "                           3. Enter 3 to withdraw.\n",
    "                           4. Enter 4 to check balance.\n",
    "                           5. Enter 5 to Exit.\n",
    "                           \"\"\")\n",
    "        if user_input == \"1\":\n",
    "            self.create_pin()\n",
    "        elif user_input == \"2\":\n",
    "            self.deposit()\n",
    "        elif user_input == \"3\":\n",
    "            self.withdraw()\n",
    "        elif user_input == \"4\":\n",
    "            self.check_balance()\n",
    "        else:\n",
    "            print(\"bye\")\n",
    "            \n",
    "    def create_pin(self):\n",
    "        self.pin = input(\"Enter your pin: \")\n",
    "        return f\"Pin Created Successfully\"\n",
    "    \n",
    "    def deposit(self):\n",
    "        temp = input(\"Enter Your Pin Code: \")\n",
    "        if temp == self.pin:\n",
    "            amount = int(input(\"Enter the amount: \"))\n",
    "            self.balance += amount\n",
    "            return f\"Deposite Successfull\"\n",
    "        else:\n",
    "            return f\"Invalid pin\"\n",
    "    \n",
    "    def withdraw(self):\n",
    "        temp = input(\"Enter Your Pin Code: \")\n",
    "        if temp == self.pin:\n",
    "            amount = int(input(\"Enter the amount: \"))\n",
    "            if amount <= self.balance:\n",
    "                self.balance -= amount\n",
    "                return f\"Withdraw Successful\"\n",
    "            else:\n",
    "                return f\"Insufucient Balance\"\n",
    "        else:\n",
    "            return f\"Invalid Pin\"\n",
    "        \n",
    "    def check_balance(self):\n",
    "        temp = input(\"Enter Your Pin Code: \")\n",
    "        if temp == self.pin:\n",
    "            return self.balance\n",
    "        else:\n",
    "            return f\"Invalid Pin\""
   ]
  },
  {
   "cell_type": "code",
   "execution_count": 11,
   "metadata": {},
   "outputs": [],
   "source": [
    "ubl = Atm()"
   ]
  },
  {
   "cell_type": "code",
   "execution_count": 12,
   "metadata": {},
   "outputs": [
    {
     "data": {
      "text/plain": [
       "'Deposite Successfull'"
      ]
     },
     "execution_count": 12,
     "metadata": {},
     "output_type": "execute_result"
    }
   ],
   "source": [
    "ubl.deposit()"
   ]
  },
  {
   "cell_type": "code",
   "execution_count": 13,
   "metadata": {},
   "outputs": [
    {
     "data": {
      "text/plain": [
       "'Withdraw Successful'"
      ]
     },
     "execution_count": 13,
     "metadata": {},
     "output_type": "execute_result"
    }
   ],
   "source": [
    "ubl.withdraw()"
   ]
  },
  {
   "cell_type": "code",
   "execution_count": 14,
   "metadata": {},
   "outputs": [
    {
     "data": {
      "text/plain": [
       "30"
      ]
     },
     "execution_count": 14,
     "metadata": {},
     "output_type": "execute_result"
    }
   ],
   "source": [
    "ubl.check_balance()"
   ]
  }
 ],
 "metadata": {
  "kernelspec": {
   "display_name": "AI",
   "language": "python",
   "name": "python3"
  },
  "language_info": {
   "codemirror_mode": {
    "name": "ipython",
    "version": 3
   },
   "file_extension": ".py",
   "mimetype": "text/x-python",
   "name": "python",
   "nbconvert_exporter": "python",
   "pygments_lexer": "ipython3",
   "version": "3.10.11"
  }
 },
 "nbformat": 4,
 "nbformat_minor": 2
}
