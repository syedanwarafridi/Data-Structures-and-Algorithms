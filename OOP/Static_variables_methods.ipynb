{
 "cells": [
  {
   "cell_type": "markdown",
   "metadata": {},
   "source": [
    "# Static Variables and Methods\n",
    "\n",
    "- Instance Variable value id different for each object\n",
    "- Class/Static Variable: Which value is remain same for each object\n",
    "- Instance variable should be declared inside the constructor\n",
    "- Static Varibale should be declared outside the contstructor\n",
    "- Dealing with static varibale it does not need self"
   ]
  },
  {
   "cell_type": "code",
   "execution_count": 15,
   "metadata": {},
   "outputs": [],
   "source": [
    "class StaticVariable:\n",
    "    \n",
    "    #Static/Class Variable\n",
    "    counter = 1\n",
    "    \n",
    "    def __init__(self):\n",
    "        #Instance VAriable    \n",
    "        self.__pin = \"\"\n",
    "        self.__balance = 0\n",
    "        self.serial_no = StaticVariable.counter + 1\n",
    "        StaticVariable.counter += 1"
   ]
  },
  {
   "cell_type": "code",
   "execution_count": 16,
   "metadata": {},
   "outputs": [],
   "source": [
    "c1 = StaticVariable()"
   ]
  },
  {
   "cell_type": "code",
   "execution_count": 17,
   "metadata": {},
   "outputs": [],
   "source": [
    "c2 = StaticVariable()"
   ]
  },
  {
   "cell_type": "code",
   "execution_count": 18,
   "metadata": {},
   "outputs": [
    {
     "data": {
      "text/plain": [
       "2"
      ]
     },
     "execution_count": 18,
     "metadata": {},
     "output_type": "execute_result"
    }
   ],
   "source": [
    "c1.serial_no\n"
   ]
  },
  {
   "cell_type": "code",
   "execution_count": 19,
   "metadata": {},
   "outputs": [
    {
     "data": {
      "text/plain": [
       "3"
      ]
     },
     "execution_count": 19,
     "metadata": {},
     "output_type": "execute_result"
    }
   ],
   "source": [
    "c2.serial_no"
   ]
  },
  {
   "cell_type": "code",
   "execution_count": 24,
   "metadata": {},
   "outputs": [],
   "source": [
    "class Atm:\n",
    "    \n",
    "    #Static Variable\n",
    "    __counter = 1\n",
    "    \n",
    "    def __init__(self):\n",
    "        #Instance Variable\n",
    "        self.__pin = \"\"\n",
    "        self.__balance = 0\n",
    "        \n",
    "        self.sno = Atm.__counter\n",
    "        Atm.__counter += 1\n",
    "        \n",
    "        self.__menu()\n",
    "    \n",
    "    @staticmethod\n",
    "    def get_counter():\n",
    "        return Atm.__counter\n",
    "    \n",
    "    @staticmethod\n",
    "    def set_counter(new):\n",
    "        if type(new) == int:\n",
    "            Atm.__counter = new\n",
    "        else:\n",
    "            print(\"Not Allowed\")\n",
    "        \n",
    "    def get_pin(self):\n",
    "        return self.__pin\n",
    "    \n",
    "    def set_pin(self, new_pin):\n",
    "        if type(new_pin) == str:\n",
    "            self.__pin = new_pin\n",
    "            print(\"Pin Changed Successfully\")\n",
    "        else:\n",
    "            print(\"Not Allowed\")\n",
    "        \n",
    "    def __menu(self):\n",
    "        user_input = input(\"\"\"\n",
    "                           Hello, How would you like to proceed?\n",
    "                           1. Enter 1 to create pin.\n",
    "                           2. Enter 2 to Deposite.\n",
    "                           3. Enter 3 to withdraw.\n",
    "                           4. Enter 4 to check balance.\n",
    "                           5. Enter 5 to Exit.\n",
    "                           \"\"\")\n",
    "        if user_input == \"1\":\n",
    "            self.create_pin()\n",
    "        elif user_input == \"2\":\n",
    "            self.deposit()\n",
    "        elif user_input == \"3\":\n",
    "            self.withdraw()\n",
    "        elif user_input == \"4\":\n",
    "            self.check_balance()\n",
    "        else:\n",
    "            print(\"bye\")\n",
    "            \n",
    "    def create_pin(self):\n",
    "        self.__pin = input(\"Enter your pin: \")\n",
    "        return f\"Pin Created Successfully\"\n",
    "    \n",
    "    def deposit(self):\n",
    "        temp = input(\"Enter Your Pin Code: \")\n",
    "        if temp == self.__pin:\n",
    "            amount = int(input(\"Enter the amount: \"))\n",
    "            self.__balance += amount\n",
    "            return f\"Deposite Successfull\"\n",
    "        else:\n",
    "            return f\"Invalid pin\"\n",
    "    \n",
    "    def withdraw(self):\n",
    "        temp = input(\"Enter Your Pin Code: \")\n",
    "        if temp == self.__pin:\n",
    "            amount = int(input(\"Enter the amount: \"))\n",
    "            if amount <= self.__balance:\n",
    "                self.__balance -= amount\n",
    "                return f\"Withdraw Successful\"\n",
    "            else:\n",
    "                return f\"Insufucient Balance\"\n",
    "        else:\n",
    "            return f\"Invalid Pin\"\n",
    "        \n",
    "    def check_balance(self):\n",
    "        temp = input(\"Enter Your Pin Code: \")\n",
    "        if temp == self.__pin:\n",
    "            return self.__balance\n",
    "        else:\n",
    "            return f\"Invalid Pin\""
   ]
  },
  {
   "cell_type": "code",
   "execution_count": 25,
   "metadata": {},
   "outputs": [
    {
     "name": "stdout",
     "output_type": "stream",
     "text": [
      "bye\n"
     ]
    }
   ],
   "source": [
    "c1 = Atm()"
   ]
  },
  {
   "cell_type": "code",
   "execution_count": 26,
   "metadata": {},
   "outputs": [
    {
     "data": {
      "text/plain": [
       "2"
      ]
     },
     "execution_count": 26,
     "metadata": {},
     "output_type": "execute_result"
    }
   ],
   "source": [
    "c1.get_counter()"
   ]
  },
  {
   "cell_type": "code",
   "execution_count": null,
   "metadata": {},
   "outputs": [],
   "source": []
  }
 ],
 "metadata": {
  "kernelspec": {
   "display_name": "AI",
   "language": "python",
   "name": "python3"
  },
  "language_info": {
   "codemirror_mode": {
    "name": "ipython",
    "version": 3
   },
   "file_extension": ".py",
   "mimetype": "text/x-python",
   "name": "python",
   "nbconvert_exporter": "python",
   "pygments_lexer": "ipython3",
   "version": "3.10.11"
  }
 },
 "nbformat": 4,
 "nbformat_minor": 2
}
