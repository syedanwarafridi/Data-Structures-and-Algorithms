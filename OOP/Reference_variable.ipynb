{
 "cells": [
  {
   "cell_type": "markdown",
   "metadata": {},
   "source": [
    "# Reference Variable\n",
    "\n",
    "- Any class object is basically a reference variable Example (ubl = Atm())\n",
    "- ubl is the reference variable through which we can access our created object"
   ]
  },
  {
   "cell_type": "markdown",
   "metadata": {},
   "source": [
    "# Pass by Reference\n",
    "\n",
    "- In Python we can pass a class object as argument\n",
    "- In Python class objects are muteable\n",
    "- We should do cloning at the time of Pass by reference\n",
    "- Muteable Data types can be changed by function\n",
    "- Immutable Data types can not be changed by any fucntion"
   ]
  },
  {
   "cell_type": "code",
   "execution_count": 1,
   "metadata": {},
   "outputs": [
    {
     "name": "stdout",
     "output_type": "stream",
     "text": [
      "Hello  Saeed\n"
     ]
    }
   ],
   "source": [
    "class Customer:\n",
    "    def __init__(self, name):\n",
    "        self.name = name\n",
    "        \n",
    "def greet(customer):\n",
    "    print(\"Hello \", customer.name)\n",
    "    \n",
    "cust = Customer(\"Saeed\")\n",
    "greet(cust)    "
   ]
  },
  {
   "cell_type": "code",
   "execution_count": 4,
   "metadata": {},
   "outputs": [
    {
     "name": "stdout",
     "output_type": "stream",
     "text": [
      "2169850980288\n",
      "[1, 2, 3, 4]\n",
      "2169850980288\n",
      "2169850980288\n",
      "[1, 2, 3, 4, 4]\n"
     ]
    }
   ],
   "source": [
    "def change(L):\n",
    "    print(id(L))\n",
    "    L.append(4)\n",
    "    print(id(L))\n",
    "    \n",
    "L1 = [1,2,3,4]\n",
    "print(id(L1))\n",
    "print(L1)\n",
    "change(L1)\n",
    "print(L1)"
   ]
  },
  {
   "cell_type": "code",
   "execution_count": 5,
   "metadata": {},
   "outputs": [
    {
     "name": "stdout",
     "output_type": "stream",
     "text": [
      "2169850947968\n",
      "(1, 2, 3, 4)\n",
      "2169850947968\n",
      "2169850143904\n",
      "(1, 2, 3, 4)\n"
     ]
    }
   ],
   "source": [
    "def change(L):\n",
    "    print(id(L))\n",
    "    L = L + (5,6)\n",
    "    print(id(L))\n",
    "    \n",
    "L1 = (1,2,3,4)\n",
    "print(id(L1))\n",
    "print(L1)\n",
    "change(L1)\n",
    "print(L1)"
   ]
  },
  {
   "cell_type": "code",
   "execution_count": null,
   "metadata": {},
   "outputs": [],
   "source": []
  }
 ],
 "metadata": {
  "kernelspec": {
   "display_name": "AI",
   "language": "python",
   "name": "python3"
  },
  "language_info": {
   "codemirror_mode": {
    "name": "ipython",
    "version": 3
   },
   "file_extension": ".py",
   "mimetype": "text/x-python",
   "name": "python",
   "nbconvert_exporter": "python",
   "pygments_lexer": "ipython3",
   "version": "3.10.11"
  }
 },
 "nbformat": 4,
 "nbformat_minor": 2
}
